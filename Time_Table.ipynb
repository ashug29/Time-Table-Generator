{
 "cells": [
  {
   "cell_type": "code",
   "execution_count": 2306,
   "metadata": {},
   "outputs": [],
   "source": [
    "import pandas as pd\n",
    "import matplotlib.pyplot as plt\n",
    "import numpy as np\n",
    "from datetime import datetime as dt\n",
    "from datetime import timedelta\n",
    "import math"
   ]
  },
  {
   "cell_type": "code",
   "execution_count": 2307,
   "metadata": {},
   "outputs": [],
   "source": [
    "Home_room=pd.read_excel(\"/Users/ashutoshgupta/Development/Projects/Vizuara/Home room teachers.xlsx\")\n",
    "Period_allotment=pd.read_excel(\"/Users/ashutoshgupta/Development/Projects/Vizuara/Period allotment.xlsx\")\n",
    "Teachers=pd.read_excel(\"/Users/ashutoshgupta/Development/Projects/Vizuara/Teachers Availability.xlsx\")"
   ]
  },
  {
   "cell_type": "code",
   "execution_count": 2308,
   "metadata": {},
   "outputs": [],
   "source": [
    "Teachers.columns=Teachers.columns.str.strip()"
   ]
  },
  {
   "cell_type": "code",
   "execution_count": 2309,
   "metadata": {},
   "outputs": [],
   "source": [
    "\n",
    "def Home_room_cleaning(df):\n",
    "  # Drop columns where all values are None or NaN\n",
    "  df = df.drop(columns=df.columns[df.isna().all()])\n",
    "  # Drop rows where all values are None or NaN\n",
    "  df=df.dropna(how=\"all\")\n",
    "  # Filling all missing spaces with the most repeated character of each column\n",
    "  for i in df.columns[df.isna().any()]:\n",
    "    df[i].fillna(df[i].mode()[0],inplace=True)\n",
    "  return df\n"
   ]
  },
  {
   "cell_type": "code",
   "execution_count": 2310,
   "metadata": {},
   "outputs": [],
   "source": [
    "def Period_table_cleaning(n):\n",
    "    return n.replace(0,np.nan)\n",
    "Period_allotment=Period_table_cleaning(Period_allotment)"
   ]
  },
  {
   "cell_type": "code",
   "execution_count": 2311,
   "metadata": {},
   "outputs": [],
   "source": [
    "\n",
    "Class=input(\"Enter the Class: \")\n",
    "Division=input(\"Enter the Section: \")\n",
    "class_name=f\"{Class} {Division}\"\n",
    "no_of_days=5\n",
    "Days=[\"Monday\",\"Tuesday\",\"Wednesday\",\"Thursday\",\"Friday\"]\n",
    "\n",
    "#Constraints\n",
    "Break=[(\"Jr. KG\",[\"12:45 PM\",\"1:15 PM\"]),(\"Sr. KG\",[\"12:45 PM\",\"1:15 PM\"]),(\"I\",[\"9:25 AM\",\"9:45 AM\"]),(\"I\",[\"12:45 PM\",\"1:15 PM\"])]\n",
    "Demand=[\"Tuesday\",[\"10:45 AM\"],\"Assembly\"]\n",
    "Timing={\"Jr. KG\":[\"10:15 AM\",\"2:15 PM\"],\"Sr. KG\":[\"10:15 AM\",\"2:15 PM\"],\"I\":[\"8:15 AM\",\"2:15 PM\"]}"
   ]
  },
  {
   "cell_type": "code",
   "execution_count": 2312,
   "metadata": {},
   "outputs": [],
   "source": [
    "Home_room=Home_room_cleaning(Home_room)\n",
    "Home_room[\"Classes\"]=Home_room[\"Classes\"].str.strip()\n",
    "search_row = np.array(Home_room[Home_room[\"Classes\"] == class_name].iloc[:,0:2])"
   ]
  },
  {
   "cell_type": "code",
   "execution_count": 2313,
   "metadata": {},
   "outputs": [],
   "source": [
    "def subject_teacher(Teachers):\n",
    "    teachers = Teachers.loc[:, [\"Subject\", class_name]]\n",
    "    def modify(x):\n",
    "        if isinstance(x, str):\n",
    "            return x.split(\",\")\n",
    "    teachers[class_name]=teachers[class_name].apply(modify)\n",
    "    teachers=np.array(teachers)\n",
    "    return teachers\n",
    "\n",
    "teachers=subject_teacher(Teachers)"
   ]
  },
  {
   "cell_type": "code",
   "execution_count": 2314,
   "metadata": {},
   "outputs": [],
   "source": [
    "\n",
    "subject_occurance=np.array(Period_allotment[[\"Subject\",Class]])\n",
    "for i in range(len(subject_occurance)):\n",
    "    if subject_occurance[i][0] == \"Assembly\":\n",
    "        subject_occurance[i][1] = 1"
   ]
  },
  {
   "cell_type": "code",
   "execution_count": 2315,
   "metadata": {},
   "outputs": [],
   "source": [
    "def time_coder(time):\n",
    "  return dt.strptime(dt.strptime(time,\"%I:%M %p\").strftime(\"%H:%M\"),\"%H:%M\")\n",
    "\n",
    "def time_decoder(time):\n",
    "  return dt.strptime(time.strftime(\"%I:%M\"),\"%H:%M\").time()"
   ]
  },
  {
   "cell_type": "code",
   "execution_count": 2316,
   "metadata": {},
   "outputs": [],
   "source": [
    "# Timings\n",
    "School_start=Timing[Class][0]\n",
    "School_end=Timing[Class][1]\n",
    "\n",
    "School_start=time_coder(School_start)\n",
    "School_end=time_coder(School_end)\n",
    "\n",
    "# Duration\n",
    "Duration=30\n",
    "\n",
    "Breaks=[]\n",
    "def no_of_breaks(Break):\n",
    "    c=0\n",
    "    for i in Break:\n",
    "        if i[0]==Class:\n",
    "            Breaks.append(dt.strptime(i[1][0], \"%H:%M %p\"))\n",
    "            c+=1\n",
    "    return c\n",
    "\n",
    "no_of_breaks=no_of_breaks(Break)\n",
    "\n",
    "\n",
    "def no_of_periods(School_start,School_end,Duration):   \n",
    "    total_time=(School_end-School_start).total_seconds()/60\n",
    "    return int(total_time/Duration)\n",
    "\n",
    "no_of_periods=no_of_periods(School_start, School_end, Duration)\n",
    "\n",
    "def least_duration(Break):\n",
    "    difference=[]\n",
    "    for i in Break:\n",
    "        if i[0]==Class:\n",
    "            x,y=i[1]\n",
    "            difference.append(int((time_coder(y)-time_coder(x)).total_seconds()/60))\n",
    "    new=[x for x in difference if x<Duration]\n",
    "    return new[0] if new else Duration\n",
    "\n",
    "# This function generates time for each period\n",
    "def Time_Generator(School_start,no_of_periods):\n",
    "    least=least_duration(Break)\n",
    "\n",
    "    if Class==\"Jr. KG\" or Class==\"Sr. KG\":\n",
    "        no_of_periods=no_of_periods-1\n",
    "    else:\n",
    "        no_of_periods=no_of_periods-2\n",
    "\n",
    "    \n",
    "    n=[School_start]\n",
    "    for i in range(no_of_periods):\n",
    "        if least<Duration:\n",
    "                less=Duration-least\n",
    "                x=School_start+timedelta(minutes=less)\n",
    "                n.append(x)\n",
    "                School_start=x\n",
    "                least=Duration  # For adding Home Room period\n",
    "\n",
    "        for j in Break:\n",
    "            if j[0]==Class:\n",
    "                a,b=j[1]\n",
    "                if time_coder(a)==School_start:\n",
    "                    x=time_coder(b)\n",
    "                    n.append(x)\n",
    "                    School_start=time_coder(b) # For adding Breaks\n",
    "\n",
    "\n",
    "        x=School_start+timedelta(minutes=30)\n",
    "        n.append(x)\n",
    "        School_start=x\n",
    "    new=[]\n",
    "    for i in range(len(n)-1):\n",
    "        new.append([str(time_decoder(n[i])),str(time_decoder(n[i+1]))])\n",
    "    return new\n",
    "\n",
    "Time=Time_Generator(School_start,no_of_periods)\n",
    "no_of_periods=len(Time)"
   ]
  },
  {
   "cell_type": "code",
   "execution_count": 2317,
   "metadata": {},
   "outputs": [],
   "source": [
    "def subject_generator(subject_occurance):\n",
    "    new_list=[]\n",
    "    list_1=[]\n",
    "    list_2=[]\n",
    "    for i in subject_occurance:\n",
    "        if isinstance(i[1], int) and isinstance(i[0], str):\n",
    "            x,y=i\n",
    "            for i in range(y):\n",
    "                list_1.append(x)\n",
    "        elif isinstance(i[1], float) and isinstance(i[0], str) and not pd.isna(i[1]):\n",
    "            x,y=i\n",
    "            for i in range(math.ceil(y)):\n",
    "                list_2.append(x)\n",
    "    new_list=new_list+list_1\n",
    "\n",
    "    n=[]\n",
    "    for i in range(0,len(list_2)-1,2):\n",
    "        if list_2[i]==list_2[i+1]:\n",
    "            n.append(list_2[i])\n",
    "        else:\n",
    "            n.append(list_2[i]+'/'+list_2[i+1])\n",
    "    list_2=n\n",
    "    new_list=new_list+list_2\n",
    "\n",
    "    list_3=[]\n",
    "    for i in range(no_of_days*no_of_breaks):\n",
    "        list_3.append(\"Break\")\n",
    "    new_list=new_list+list_3\n",
    "\n",
    "    list_4=[]\n",
    "    for i in range((no_of_periods*no_of_days)-len(new_list)):\n",
    "        list_4.append(\"HR\")\n",
    "    new_list=new_list+list_4\n",
    "\n",
    "    return new_list"
   ]
  },
  {
   "cell_type": "code",
   "execution_count": 2318,
   "metadata": {},
   "outputs": [],
   "source": [
    "def time_difference(times):\n",
    "    time1 = dt.strptime(times[0], '%H:%M:%S')\n",
    "    time2 = dt.strptime(times[1], '%H:%M:%S')\n",
    "    return int((time2-time1).total_seconds()/60)  "
   ]
  },
  {
   "cell_type": "code",
   "execution_count": 2319,
   "metadata": {},
   "outputs": [],
   "source": [
    "\n",
    "def generate_periods(new_list, Demand, Time, Breaks, Days, no_of_days, no_of_periods):\n",
    "    Periods = []\n",
    "    for i in range(no_of_days):\n",
    "        Subjects = []\n",
    "        for j in range(no_of_periods):\n",
    "            x, y = dt.strptime(Demand[1][0], \"%I:%M %p\"), dt.strptime(Time[j][0], \"%H:%M:%S\")\n",
    "            if y in Breaks:\n",
    "                Subjects.append(\"Break\")\n",
    "                new_list.remove(\"Break\")\n",
    "            elif Demand[0] == Days[i] and x == y:\n",
    "                if Demand[2] in new_list:\n",
    "                    Subjects.append(Demand[2])\n",
    "                    new_list.remove(Demand[2])\n",
    "            elif time_difference(Time[j])==10:\n",
    "                if \"HR\" in new_list:\n",
    "                    Subjects.append(\"HR\")\n",
    "                    new_list.remove(\"HR\")\n",
    "            else:\n",
    "                available_subjects = [s for s in new_list if s != \"Break\" and s != \"Assembly\" and s != \"HR\"]\n",
    "                if available_subjects:\n",
    "                    sub = np.random.choice(available_subjects)\n",
    "                    Subjects.append(sub)\n",
    "                    new_list.remove(sub)\n",
    "        Periods.append(Subjects)\n",
    "    return Periods"
   ]
  },
  {
   "cell_type": "code",
   "execution_count": 2320,
   "metadata": {},
   "outputs": [],
   "source": [
    "\n",
    "def generate_day_teacher(Periods, teachers):\n",
    "    Day_teacher = []\n",
    "    for x in Periods:\n",
    "        Teacher_period = []\n",
    "        for y in x:\n",
    "            found_teacher = False\n",
    "            split_value = y.split('/')\n",
    "            if split_value:\n",
    "                random_choice = np.random.choice(split_value)\n",
    "                for z in teachers:\n",
    "                    if y == z[0] and z[1] is not None:\n",
    "                        Teacher_period.append(z[1][0])\n",
    "                        found_teacher = True\n",
    "                        break\n",
    "                    elif len(split_value) == 2 and random_choice == z[0] and z[1] is not None:\n",
    "                        Teacher_period.append(z[1][0])\n",
    "                        found_teacher = True\n",
    "                        break\n",
    "            if not found_teacher:\n",
    "                Teacher_period.append(\"HR\")\n",
    "        Day_teacher.append(Teacher_period)\n",
    "    return Day_teacher"
   ]
  },
  {
   "cell_type": "code",
   "execution_count": 2321,
   "metadata": {},
   "outputs": [],
   "source": [
    "def generate_final_teachers(Day_teacher, search_row):\n",
    "    Final_Teachers = []\n",
    "    split_name = ''\n",
    "    for i in search_row:\n",
    "        x, y = i\n",
    "        split_name = y.split(',')\n",
    "    for i in Day_teacher:\n",
    "        Semi_Teacher = []\n",
    "        for j in i:\n",
    "            if j == \"HR\":\n",
    "                Semi_Teacher.append(np.random.choice(split_name))\n",
    "            else:\n",
    "                Semi_Teacher.append(j)\n",
    "        Final_Teachers.append(Semi_Teacher)\n",
    "    return Final_Teachers"
   ]
  },
  {
   "cell_type": "code",
   "execution_count": 2322,
   "metadata": {},
   "outputs": [],
   "source": [
    "def Period_Time_span():\n",
    "    Period_Time_span=[]\n",
    "    c=1\n",
    "    for i in Time:\n",
    "        match_found = False\n",
    "        for j in Break: \n",
    "            if j[0]==Class and str(time_coder(j[1][0]))==f\"1900-01-01 {i[0]}\":\n",
    "                Period_Time_span.append(f'{i[0]}-{i[1]}')\n",
    "                match_found = True\n",
    "                Break\n",
    "        if not match_found:\n",
    "            Period_Time_span.append(f'Period {c} {i[0]}-{i[1]}')  \n",
    "            c+=1      \n",
    "    return Period_Time_span"
   ]
  },
  {
   "cell_type": "code",
   "execution_count": 2323,
   "metadata": {},
   "outputs": [],
   "source": [
    "def final_data():\n",
    "    final_data = []\n",
    "    new_list = subject_generator(subject_occurance)\n",
    "    Periods = generate_periods(new_list, Demand, Time, Breaks, Days, no_of_days, no_of_periods)\n",
    "    Day_teacher = generate_day_teacher(Periods, teachers)\n",
    "    Final_Teachers = generate_final_teachers(Day_teacher, search_row)\n",
    "    for i, j in zip(Periods, Final_Teachers):\n",
    "        subject_and_teacher = []\n",
    "        for x, y in zip(i, j):\n",
    "            subject_and_teacher.append(f'{x} \"{y}\"')\n",
    "        final_data.append(subject_and_teacher)\n",
    "    return final_data"
   ]
  },
  {
   "cell_type": "code",
   "execution_count": 2324,
   "metadata": {},
   "outputs": [],
   "source": [
    "def display(data):\n",
    "    fig, ax = plt.subplots(figsize=(9,9))\n",
    "    ax.axis('tight')\n",
    "    ax.axis('off')\n",
    "    ax.set_title(class_name,fontsize=16,loc=\"center\")\n",
    "    table = ax.table(\n",
    "        cellText=data,\n",
    "        rowLabels=Days, \n",
    "        colLabels=Period_Time_span(), \n",
    "        loc='center', \n",
    "        cellLoc='center' \n",
    "    )\n",
    "    table.auto_set_font_size(False)\n",
    "    table.set_fontsize(18)\n",
    "    table.scale(7, 7)\n",
    "    plt.show()"
   ]
  },
  {
   "cell_type": "code",
   "execution_count": null,
   "metadata": {},
   "outputs": [],
   "source": [
    "display(final_data())"
   ]
  }
 ],
 "metadata": {
  "kernelspec": {
   "display_name": "Python 3",
   "language": "python",
   "name": "python3"
  },
  "language_info": {
   "codemirror_mode": {
    "name": "ipython",
    "version": 3
   },
   "file_extension": ".py",
   "mimetype": "text/x-python",
   "name": "python",
   "nbconvert_exporter": "python",
   "pygments_lexer": "ipython3",
   "version": "3.9.6"
  },
  "orig_nbformat": 4
 },
 "nbformat": 4,
 "nbformat_minor": 2
}
